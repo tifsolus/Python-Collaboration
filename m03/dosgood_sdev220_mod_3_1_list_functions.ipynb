{
 "cells": [
  {
   "cell_type": "markdown",
   "id": "0e0121da",
   "metadata": {},
   "source": [
    "# 7.4"
   ]
  },
  {
   "cell_type": "code",
   "execution_count": 13,
   "id": "15d85e05",
   "metadata": {},
   "outputs": [],
   "source": [
    "from IPython.display import Markdown as md\n",
    "from IPython.utils import capture\n",
    "\n",
    "with capture.capture_output(stdout=True, stderr=False, display=False) as things_output:\n",
    "    lst_things = ['mozzarella', 'cinderella', 'salmonella']\n",
    "    print(lst_things)"
   ]
  },
  {
   "cell_type": "markdown",
   "id": "b770e69d",
   "metadata": {},
   "source": [
    "# 7.5"
   ]
  },
  {
   "cell_type": "code",
   "execution_count": 14,
   "id": "f2e3cb88",
   "metadata": {},
   "outputs": [
    {
     "name": "stdout",
     "output_type": "stream",
     "text": [
      "The name Cinderella did change.\n"
     ]
    }
   ],
   "source": [
    "lst_things = ['mozzarella', 'cinderella', 'salmonella']\n",
    "elm_to_update = lst_things[1]\n",
    "lst_things[1] = elm_to_update.title()\n",
    "print(f\"The name {lst_things[1]} did change.\")    "
   ]
  },
  {
   "cell_type": "markdown",
   "id": "3e0f922c",
   "metadata": {},
   "source": [
    "# 7.6"
   ]
  },
  {
   "cell_type": "code",
   "execution_count": 15,
   "id": "5695b79c",
   "metadata": {},
   "outputs": [
    {
     "name": "stdout",
     "output_type": "stream",
     "text": [
      "The name MOZZARELLA did change.\n"
     ]
    }
   ],
   "source": [
    "lst_things = ['mozzarella', 'cinderella', 'salmonella']\n",
    "elm_to_update = lst_things[0]\n",
    "lst_things[0] = elm_to_update.upper()\n",
    "print(f\"The name {lst_things[0]} did change.\")  \n",
    "\n"
   ]
  },
  {
   "cell_type": "markdown",
   "id": "2b8920e2",
   "metadata": {},
   "source": [
    "# 7.7"
   ]
  },
  {
   "cell_type": "code",
   "execution_count": 16,
   "id": "ec9f915a",
   "metadata": {},
   "outputs": [
    {
     "name": "stdout",
     "output_type": "stream",
     "text": [
      "Gone!\n"
     ]
    }
   ],
   "source": [
    "lst_things = ['mozzarella', 'cinderella', 'salmonella']\n",
    "lst_things.pop(2)\n",
    "print(f\"Gone!\")  "
   ]
  },
  {
   "cell_type": "markdown",
   "id": "1f3ead43",
   "metadata": {},
   "source": [
    "# 9.1"
   ]
  },
  {
   "cell_type": "code",
   "execution_count": 17,
   "id": "38392a0c",
   "metadata": {},
   "outputs": [
    {
     "name": "stdout",
     "output_type": "stream",
     "text": [
      "['Harry', 'Ron', 'Hermione']\n"
     ]
    }
   ],
   "source": [
    "def good():\n",
    "    return ['Harry', 'Ron', 'Hermione']\n",
    "print(good())"
   ]
  },
  {
   "cell_type": "markdown",
   "id": "1bfd100e",
   "metadata": {},
   "source": [
    "# 9.2"
   ]
  },
  {
   "cell_type": "code",
   "execution_count": 18,
   "id": "e6c6bcb2",
   "metadata": {},
   "outputs": [
    {
     "name": "stdout",
     "output_type": "stream",
     "text": [
      "0: is even number\n",
      "1: is odd number\n",
      "2: is even number\n",
      "3: is odd number\n",
      "4: is even number\n",
      "5: is odd number and the third occurence\n",
      "6: is even number\n",
      "7: is odd number\n",
      "8: is even number\n",
      "9: is odd number\n"
     ]
    }
   ],
   "source": [
    "\n",
    "def get_odds():\n",
    "    for n in range(10):\n",
    "        yield n\n",
    "odd_found_count=0       \n",
    "for i,value in enumerate(get_odds()):\n",
    "    if(value % 2):\n",
    "        odd_found_count +=1\n",
    "        if(odd_found_count==3):\n",
    "            print(f\"{value}: is odd number and the third occurence\")\n",
    "        else:\n",
    "            print(f\"{value}: is odd number\")\n",
    "    else:\n",
    "        print(f\"{value}: is even number\")\n",
    "        "
   ]
  },
  {
   "cell_type": "code",
   "execution_count": null,
   "id": "a97c052d",
   "metadata": {},
   "outputs": [],
   "source": []
  }
 ],
 "metadata": {
  "kernelspec": {
   "display_name": "Python 3 (ipykernel)",
   "language": "python",
   "name": "python3"
  },
  "language_info": {
   "codemirror_mode": {
    "name": "ipython",
    "version": 3
   },
   "file_extension": ".py",
   "mimetype": "text/x-python",
   "name": "python",
   "nbconvert_exporter": "python",
   "pygments_lexer": "ipython3",
   "version": "3.11.5"
  }
 },
 "nbformat": 4,
 "nbformat_minor": 5
}
