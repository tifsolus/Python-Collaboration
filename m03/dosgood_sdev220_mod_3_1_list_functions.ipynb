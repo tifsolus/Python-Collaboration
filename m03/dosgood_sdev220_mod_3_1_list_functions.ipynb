{
 "cells": [
  {
   "cell_type": "markdown",
   "id": "0e0121da",
   "metadata": {},
   "source": [
    "# 7.4"
   ]
  },
  {
   "cell_type": "code",
   "execution_count": 25,
   "id": "15d85e05",
   "metadata": {},
   "outputs": [],
   "source": [
    "from IPython.display import Markdown as md\n",
    "from IPython.utils import capture\n",
    "\n",
    "with capture.capture_output(stdout=True, stderr=False, display=False) as things_output:\n",
    "    lst_things = ['mozzarella', 'cinderella', 'salmonella']\n",
    "    print(lst_things)"
   ]
  },
  {
   "cell_type": "markdown",
   "id": "b770e69d",
   "metadata": {},
   "source": [
    "# 7.5"
   ]
  },
  {
   "cell_type": "code",
   "execution_count": 26,
   "id": "f2e3cb88",
   "metadata": {},
   "outputs": [
    {
     "name": "stdout",
     "output_type": "stream",
     "text": [
      "The name Cinderella did change.\n"
     ]
    }
   ],
   "source": [
    "lst_things = ['mozzarella', 'cinderella', 'salmonella']\n",
    "elm_to_update = lst_things[1]\n",
    "lst_things[1] = elm_to_update.title()\n",
    "print(f\"The name {lst_things[1]} did change.\")    "
   ]
  },
  {
   "cell_type": "markdown",
   "id": "3e0f922c",
   "metadata": {},
   "source": [
    "# 7.6"
   ]
  },
  {
   "cell_type": "code",
   "execution_count": 27,
   "id": "5695b79c",
   "metadata": {},
   "outputs": [
    {
     "name": "stdout",
     "output_type": "stream",
     "text": [
      "The name Mozzarella did change.\n"
     ]
    }
   ],
   "source": [
    "lst_things = ['mozzarella', 'cinderella', 'salmonella']\n",
    "elm_to_update = lst_things[0]\n",
    "lst_things[0] = elm_to_update.title()\n",
    "print(f\"The name {lst_things[0]} did change.\")  \n",
    "\n"
   ]
  },
  {
   "cell_type": "markdown",
   "id": "2b8920e2",
   "metadata": {},
   "source": [
    "# 7.7"
   ]
  },
  {
   "cell_type": "code",
   "execution_count": 28,
   "id": "ec9f915a",
   "metadata": {},
   "outputs": [
    {
     "name": "stdout",
     "output_type": "stream",
     "text": [
      "Gone!\n"
     ]
    }
   ],
   "source": [
    "lst_things = ['mozzarella', 'cinderella', 'salmonella']\n",
    "lst_things.pop(2)\n",
    "print(f\"Gone!\")  "
   ]
  },
  {
   "cell_type": "markdown",
   "id": "1f3ead43",
   "metadata": {},
   "source": [
    "# 9.1"
   ]
  },
  {
   "cell_type": "code",
   "execution_count": 29,
   "id": "38392a0c",
   "metadata": {},
   "outputs": [
    {
     "name": "stdout",
     "output_type": "stream",
     "text": [
      "['Harry', 'Ron', 'Hermione']\n"
     ]
    }
   ],
   "source": [
    "def good():\n",
    "    return ['Harry', 'Ron', 'Hermione']\n",
    "print(good())"
   ]
  },
  {
   "cell_type": "markdown",
   "id": "1bfd100e",
   "metadata": {},
   "source": [
    "# 9.2"
   ]
  },
  {
   "cell_type": "code",
   "execution_count": null,
   "id": "60cf7046",
   "metadata": {},
   "outputs": [],
   "source": []
  },
  {
   "cell_type": "code",
   "execution_count": 31,
   "id": "e6c6bcb2",
   "metadata": {},
   "outputs": [
    {
     "name": "stdout",
     "output_type": "stream",
     "text": [
      "0: is not the one\n",
      "1: is not the one\n",
      "2\n",
      "3: is not the one\n",
      "4: is not the one\n",
      "5: is not the one\n",
      "6: is not the one\n",
      "7: is not the one\n",
      "8: is not the one\n",
      "9: is not the one\n"
     ]
    }
   ],
   "source": [
    "def get_odds():\n",
    "    for n in range(10):\n",
    "        yield n\n",
    "        \n",
    "for i,value in enumerate(get_odds()):\n",
    "    if(i==2):\n",
    "        print(value)\n",
    "    else:\n",
    "        print(f\"{value}: is not the one\")\n",
    "        "
   ]
  },
  {
   "cell_type": "code",
   "execution_count": null,
   "id": "a97c052d",
   "metadata": {},
   "outputs": [],
   "source": []
  }
 ],
 "metadata": {
  "kernelspec": {
   "display_name": "Python 3 (ipykernel)",
   "language": "python",
   "name": "python3"
  },
  "language_info": {
   "codemirror_mode": {
    "name": "ipython",
    "version": 3
   },
   "file_extension": ".py",
   "mimetype": "text/x-python",
   "name": "python",
   "nbconvert_exporter": "python",
   "pygments_lexer": "ipython3",
   "version": "3.11.5"
  }
 },
 "nbformat": 4,
 "nbformat_minor": 5
}
