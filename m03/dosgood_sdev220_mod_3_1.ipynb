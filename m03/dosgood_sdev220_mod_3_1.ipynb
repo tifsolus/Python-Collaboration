{
 "cells": [
  {
   "cell_type": "markdown",
   "id": "0e0121da",
   "metadata": {},
   "source": [
    "# OOP"
   ]
  },
  {
   "cell_type": "code",
   "execution_count": 17,
   "id": "6f504035",
   "metadata": {},
   "outputs": [
    {
     "data": {
      "text/plain": [
       "[0, 0, 1, 2, 2]"
      ]
     },
     "execution_count": 17,
     "metadata": {},
     "output_type": "execute_result"
    }
   ],
   "source": [
    "class Solution:\n",
    "    def sort(self,int_list,n):\n",
    "        n_list = int_list[n-len(int_list):None]\n",
    "        # create an empty dictionary to store the frequency of list elements\n",
    "        freq = {}\n",
    "\n",
    "        # store distinct values in the input list as keys and\n",
    "        for i in n_list:\n",
    "            freq[i] = freq.get(i, 0) + 1\n",
    "\n",
    "        # sort the dictionary according to its keys' natural ordering and\n",
    "        i = 0\n",
    "        for key in sorted(freq.keys()):\n",
    "            val = freq.get(key)\n",
    "            while val > 0:\n",
    "                n_list[i] = key\n",
    "                i = i + 1\n",
    "                val = val - 1       \n",
    "        return n_list\n",
    "My_Class = Solution()\n",
    "My_Class.sort([0, 2 ,1 ,2, 0],5)"
   ]
  },
  {
   "cell_type": "markdown",
   "id": "4948a888",
   "metadata": {},
   "source": [
    "# Functional Programming"
   ]
  },
  {
   "cell_type": "code",
   "execution_count": 20,
   "id": "f799081a",
   "metadata": {
    "scrolled": true
   },
   "outputs": [
    {
     "data": {
      "text/plain": [
       "3"
      ]
     },
     "execution_count": 20,
     "metadata": {},
     "output_type": "execute_result"
    }
   ],
   "source": [
    "class Solution:\t\n",
    "    def binary_search(self, arr, n, ele):\n",
    "        l = 0\n",
    "        h = len(arr) - 1\n",
    "\n",
    "        while l <= h:\n",
    "            mid = (l + h) //2\n",
    "            if arr[mid] == ele:\n",
    "                return mid\n",
    "            elif arr[mid] < ele:\n",
    "                l = mid + 1\n",
    "            else:\n",
    "                h = mid - 1\n",
    "\n",
    "        return -1\n",
    "My_Class = Solution()\n",
    "My_Class.binary_search([1,2,3,4,5],5,4)"
   ]
  },
  {
   "cell_type": "code",
   "execution_count": null,
   "id": "84715e4e",
   "metadata": {},
   "outputs": [],
   "source": []
  }
 ],
 "metadata": {
  "kernelspec": {
   "display_name": "Python 3 (ipykernel)",
   "language": "python",
   "name": "python3"
  },
  "language_info": {
   "codemirror_mode": {
    "name": "ipython",
    "version": 3
   },
   "file_extension": ".py",
   "mimetype": "text/x-python",
   "name": "python",
   "nbconvert_exporter": "python",
   "pygments_lexer": "ipython3",
   "version": "3.11.5"
  }
 },
 "nbformat": 4,
 "nbformat_minor": 5
}
