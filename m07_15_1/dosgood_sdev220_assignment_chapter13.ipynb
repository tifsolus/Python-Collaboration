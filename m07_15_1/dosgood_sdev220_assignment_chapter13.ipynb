{
 "cells": [
  {
   "cell_type": "markdown",
   "id": "0e0121da",
   "metadata": {},
   "source": [
    "# 13.1,13.2,13.3"
   ]
  },
  {
   "cell_type": "code",
   "execution_count": 15,
   "id": "557c69b6",
   "metadata": {},
   "outputs": [
    {
     "name": "stdout",
     "output_type": "stream",
     "text": [
      "2023-12-05 22:58:57\n",
      "2023-12-05\n",
      "2023-12-05\n"
     ]
    }
   ],
   "source": [
    "from datetime import datetime\n",
    "import re\n",
    "# date format\n",
    "DATETIMEFORMAT = \"%Y-%m-%d %H:%M:%S\"\n",
    "DATEFORMAT = \"%Y-%m-%d\"\n",
    "# create file object\n",
    "with open(\"today.txt\", \"w\") as file_object:\n",
    "    # convert to datetime\n",
    "    now = datetime.now().strftime(DATETIMEFORMAT)\n",
    "    # write to file\n",
    "    file_object.writelines(now) \n",
    "    # Closing file\n",
    "    # format date time to date\n",
    "    # now = datetime.now().strftime(\"%m/%d/%Y\")\n",
    "\n",
    "#prove file created with data\n",
    "with open(\"today.txt\", \"r\") as file_object:    \n",
    "    for line in file_object:\n",
    "        #13.2\n",
    "        today_string = line\n",
    "        print(today_string)\n",
    "        #13.3\n",
    "        # Convert to datetime object\n",
    "        datetime_obj = datetime.strptime(today_string, DATETIMEFORMAT)\n",
    "        date_parsed_obj = datetime_obj.strftime(DATEFORMAT)\n",
    "        print(date_parsed_obj)\n",
    "        # Better way\n",
    "        today_date_match = re.search(r'\\d{4}-\\d{2}-\\d{2}', today_string)\n",
    "        # show match found\n",
    "        print(today_date_match.group())\n",
    "\n"
   ]
  },
  {
   "cell_type": "markdown",
   "id": "4948a888",
   "metadata": {},
   "source": [
    "# 15.1"
   ]
  },
  {
   "cell_type": "code",
   "execution_count": 16,
   "id": "fce83d05",
   "metadata": {},
   "outputs": [],
   "source": [
    "import os\n",
    "import sys\n",
    "import multiprocessing\n",
    "module_path = os.path.abspath(os.path.join('../process_test.py'))\n",
    "sys.path.insert(0, module_path)\n",
    "from process_test import process_function,run_multiprocs\n",
    "run_multiprocs()\n",
    "\n",
    "# process in parallel all 3\n",
    "if __name__ == \"__main__\":\n",
    "  run_multiprocs()  \n"
   ]
  }
 ],
 "metadata": {
  "kernelspec": {
   "display_name": "Python 3 (ipykernel)",
   "language": "python",
   "name": "python3"
  },
  "language_info": {
   "codemirror_mode": {
    "name": "ipython",
    "version": 3
   },
   "file_extension": ".py",
   "mimetype": "text/x-python",
   "name": "python",
   "nbconvert_exporter": "python",
   "pygments_lexer": "ipython3",
   "version": "3.11.7"
  }
 },
 "nbformat": 4,
 "nbformat_minor": 5
}
