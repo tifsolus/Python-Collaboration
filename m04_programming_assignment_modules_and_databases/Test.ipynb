{
 "cells": [
  {
   "cell_type": "markdown",
   "id": "0e0121da",
   "metadata": {},
   "source": [
    "# 11.1"
   ]
  },
  {
   "cell_type": "code",
   "execution_count": 9,
   "id": "6f504035",
   "metadata": {},
   "outputs": [
    {
     "name": "stdout",
     "output_type": "stream",
     "text": [
      "Open 9-5 daily\n"
     ]
    }
   ],
   "source": [
    "from zoo import hours\n",
    "hours()"
   ]
  },
  {
   "cell_type": "markdown",
   "metadata": {},
   "source": [
    "# 11.2"
   ]
  },
  {
   "cell_type": "code",
   "execution_count": 10,
   "metadata": {},
   "outputs": [
    {
     "name": "stdout",
     "output_type": "stream",
     "text": [
      "Open 9-5 daily\n"
     ]
    }
   ],
   "source": [
    "import zoo as managerie\n",
    "managerie.hours()"
   ]
  },
  {
   "cell_type": "code",
   "execution_count": 11,
   "metadata": {},
   "outputs": [],
   "source": [
    "# 16.2"
   ]
  },
  {
   "cell_type": "code",
   "execution_count": 33,
   "metadata": {},
   "outputs": [
    {
     "name": "stdout",
     "output_type": "stream",
     "text": [
      "An exception occurred\n",
      "An exception occurred\n",
      "[('Perdido Street Station',), ('Small Gods',), ('The Spellman Files',), ('The Weirdstone of Brisingamen',), ('Thud!',), ('title',)]\n"
     ]
    }
   ],
   "source": [
    "import sqlite3\n",
    "conn = sqlite3.connect('newbooks.db')\n",
    "curs = conn.cursor()\n",
    "\n",
    "try:\n",
    "  curs.execute('''CREATE TABLE newbooks\n",
    "    (title VARCHAR(100) primary key,\n",
    "     author VARCHAR(50),\n",
    "     year int)''')\n",
    "except: \n",
    "  print('An exception occurred')\n",
    "\n",
    "try:\n",
    "  import csv\n",
    "  with open('books.csv', newline='') as csvfile:\n",
    "    books_reader = csv.reader(csvfile)\n",
    "    books_data = list(books_reader)\n",
    "    \n",
    "    for row in books_data:        \n",
    "         sql = \"INSERT INTO newbooks (title,author,year) VALUES (?,?,?)\"\n",
    "         curs.execute(sql,row)\n",
    "  conn.commit()\n",
    "except:\n",
    "  print('An exception occurred')\n",
    "\n",
    "res = curs.execute(\"SELECT title FROM newbooks\")\n",
    "ret_values = res.fetchall()\n",
    "print(ret_values)\n",
    "curs.close()"
   ]
  }
 ],
 "metadata": {
  "kernelspec": {
   "display_name": "Python 3 (ipykernel)",
   "language": "python",
   "name": "python3"
  },
  "language_info": {
   "codemirror_mode": {
    "name": "ipython",
    "version": 3
   },
   "file_extension": ".py",
   "mimetype": "text/x-python",
   "name": "python",
   "nbconvert_exporter": "python",
   "pygments_lexer": "ipython3",
   "version": "3.11.6"
  }
 },
 "nbformat": 4,
 "nbformat_minor": 5
}
