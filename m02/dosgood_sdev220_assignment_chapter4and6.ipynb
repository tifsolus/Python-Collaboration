{
 "cells": [
  {
   "cell_type": "markdown",
   "id": "0e0121da",
   "metadata": {},
   "source": [
    "# 4.1"
   ]
  },
  {
   "cell_type": "code",
   "execution_count": 5,
   "id": "6f504035",
   "metadata": {},
   "outputs": [
    {
     "name": "stdout",
     "output_type": "stream",
     "text": [
      "Choose first number between 1 and 10: 10\n",
      "Choose second number between 1 and 10: 8\n",
      "too high\n"
     ]
    }
   ],
   "source": [
    "secret = input(\"Choose first number between 1 and 10: \")\n",
    "guess = input(\"Choose second number between 1 and 10: \")\n",
    "if guess < secret:\n",
    "    print('too low')\n",
    "elif guess > secret:\n",
    "    print('too high')\n",
    "else:\n",
    "    print('just right')\n"
   ]
  },
  {
   "cell_type": "markdown",
   "id": "4948a888",
   "metadata": {},
   "source": [
    "# 4.2"
   ]
  },
  {
   "cell_type": "code",
   "execution_count": 8,
   "id": "f799081a",
   "metadata": {
    "scrolled": true
   },
   "outputs": [
    {
     "name": "stdout",
     "output_type": "stream",
     "text": [
      "its a watermelon\n"
     ]
    }
   ],
   "source": [
    " small = True\n",
    " green = False\n",
    " if green and small:\n",
    "    print('its a cherry')\n",
    " else:\n",
    "    print('its a watermelon')\n"
   ]
  },
  {
   "cell_type": "markdown",
   "id": "3b9993ba",
   "metadata": {},
   "source": [
    "# 6.1"
   ]
  },
  {
   "cell_type": "code",
   "execution_count": 11,
   "id": "175050ec",
   "metadata": {
    "scrolled": true
   },
   "outputs": [
    {
     "name": "stdout",
     "output_type": "stream",
     "text": [
      "3\n",
      "2\n",
      "1\n",
      "0\n"
     ]
    }
   ],
   "source": [
    "number_list = [3, 2, 1, 0]\n",
    "\n",
    "for num in number_list:\n",
    "    print(num)\n",
    "    "
   ]
  },
  {
   "cell_type": "markdown",
   "id": "a163f43b",
   "metadata": {},
   "source": [
    "# 6.2"
   ]
  },
  {
   "cell_type": "code",
   "execution_count": 15,
   "id": "0f290b76",
   "metadata": {},
   "outputs": [
    {
     "name": "stdout",
     "output_type": "stream",
     "text": [
      "1 is less than 7\n",
      "2 is less than 7\n",
      "3 is less than 7\n",
      "4 is less than 7\n",
      "5 is less than 7\n",
      "6 is less than 7\n",
      "7 Found it\n",
      "8 Oops\n"
     ]
    }
   ],
   "source": [
    "guess_me = 7\n",
    "number = 1\n",
    "while guess_me:\n",
    "    if (number < guess_me):\n",
    "        print(f'{number} is less than {guess_me}')        \n",
    "    elif (number == guess_me):\n",
    "        print(f'{number} Found it')        \n",
    "    else:\n",
    "        print(f'{number} Oops')\n",
    "        break\n",
    "    number += 1\n",
    "    continue\n"
   ]
  },
  {
   "cell_type": "markdown",
   "id": "8a78139c",
   "metadata": {},
   "source": [
    "# 6.3"
   ]
  },
  {
   "cell_type": "code",
   "execution_count": 17,
   "id": "95fc0771",
   "metadata": {
    "scrolled": true
   },
   "outputs": [
    {
     "name": "stdout",
     "output_type": "stream",
     "text": [
      "0 is less than 5\n",
      "1 is less than 5\n",
      "2 is less than 5\n",
      "3 is less than 5\n",
      "4 is less than 5\n",
      "5 Found it\n",
      "6 Oops\n"
     ]
    }
   ],
   "source": [
    "guess_me = 5\n",
    "for number in range(10):\n",
    "    if (number < guess_me):\n",
    "        print(f'{number} is less than {guess_me}')        \n",
    "    elif (number == guess_me):\n",
    "        print(f'{number} Found it')   \n",
    "        continue\n",
    "    else:\n",
    "        print(f'{number} Oops')\n",
    "        break"
   ]
  },
  {
   "cell_type": "code",
   "execution_count": null,
   "id": "84715e4e",
   "metadata": {},
   "outputs": [],
   "source": []
  }
 ],
 "metadata": {
  "kernelspec": {
   "display_name": "Python 3 (ipykernel)",
   "language": "python",
   "name": "python3"
  },
  "language_info": {
   "codemirror_mode": {
    "name": "ipython",
    "version": 3
   },
   "file_extension": ".py",
   "mimetype": "text/x-python",
   "name": "python",
   "nbconvert_exporter": "python",
   "pygments_lexer": "ipython3",
   "version": "3.11.5"
  }
 },
 "nbformat": 4,
 "nbformat_minor": 5
}
