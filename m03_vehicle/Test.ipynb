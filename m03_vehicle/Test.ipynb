{
 "cells": [
  {
   "cell_type": "markdown",
   "id": "0e0121da",
   "metadata": {},
   "source": [
    "# Vehicle Test"
   ]
  },
  {
   "cell_type": "code",
   "execution_count": 1,
   "id": "6f504035",
   "metadata": {},
   "outputs": [
    {
     "name": "stdout",
     "output_type": "stream",
     "text": [
      "\n",
      "            Result #: 1\n",
      "            Vehicle type: Car\n",
      "            Year: d\n",
      "            Make: D\n",
      "            Model: D\n",
      "            Number of doors: 2\n",
      "            Type of roof:Solid\n",
      "            \n",
      "False\n"
     ]
    }
   ],
   "source": [
    "from main import main\n",
    "print(main())"
   ]
  }
 ],
 "metadata": {
  "kernelspec": {
   "display_name": "Python 3 (ipykernel)",
   "language": "python",
   "name": "python3"
  },
  "language_info": {
   "codemirror_mode": {
    "name": "ipython",
    "version": 3
   },
   "file_extension": ".py",
   "mimetype": "text/x-python",
   "name": "python",
   "nbconvert_exporter": "python",
   "pygments_lexer": "ipython3",
   "version": "3.11.6"
  }
 },
 "nbformat": 4,
 "nbformat_minor": 5
}
