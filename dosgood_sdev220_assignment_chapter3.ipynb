{
 "cells": [
  {
   "cell_type": "markdown",
   "id": "0e0121da",
   "metadata": {},
   "source": [
    "# 3.1"
   ]
  },
  {
   "cell_type": "code",
   "execution_count": 1,
   "id": "557c69b6",
   "metadata": {},
   "outputs": [],
   "source": [
    "from IPython.display import Markdown as md\n",
    "from IPython.utils import capture\n",
    "\n",
    "with capture.capture_output(stdout=True, stderr=False, display=False) as seconds_perhr_captured:\n",
    "    print(60 * 60)"
   ]
  },
  {
   "cell_type": "markdown",
   "id": "4948a888",
   "metadata": {},
   "source": [
    "# 3.2"
   ]
  },
  {
   "cell_type": "code",
   "execution_count": 2,
   "id": "f799081a",
   "metadata": {
    "scrolled": true
   },
   "outputs": [
    {
     "data": {
      "text/markdown": [
       "How many seconds in an hour? tere are 3600\n",
       " seconds in an hour."
      ],
      "text/plain": [
       "<IPython.core.display.Markdown object>"
      ]
     },
     "execution_count": 2,
     "metadata": {},
     "output_type": "execute_result"
    }
   ],
   "source": [
    "captured_str = str(seconds_perhr_captured)\n",
    "md(\"How many seconds in an hour? there are {} seconds in an hour.\".format(captured_str))"
   ]
  },
  {
   "cell_type": "markdown",
   "id": "3b9993ba",
   "metadata": {},
   "source": [
    "# 3.3"
   ]
  },
  {
   "cell_type": "code",
   "execution_count": 3,
   "id": "175050ec",
   "metadata": {
    "scrolled": true
   },
   "outputs": [
    {
     "data": {
      "text/markdown": [
       "How many seconds are in an day? There are 86400 seconds in an day."
      ],
      "text/plain": [
       "<IPython.core.display.Markdown object>"
      ]
     },
     "execution_count": 3,
     "metadata": {},
     "output_type": "execute_result"
    }
   ],
   "source": [
    "seconds_per_hour = int(captured_str)\n",
    "seconds_per_day = seconds_per_hour * 24\n",
    "md(\"How many seconds are in an day? \"\n",
    "   \"There are {} seconds in an day.\".format(seconds_per_day))"
   ]
  },
  {
   "cell_type": "markdown",
   "id": "a163f43b",
   "metadata": {},
   "source": [
    "# 3.4"
   ]
  },
  {
   "cell_type": "code",
   "execution_count": 4,
   "id": "0f290b76",
   "metadata": {},
   "outputs": [
    {
     "name": "stdout",
     "output_type": "stream",
     "text": [
      "24.0\n"
     ]
    }
   ],
   "source": [
    "seconds_per_day_fp = (seconds_per_day / seconds_per_hour)\n",
    "print(seconds_per_day_fp)"
   ]
  },
  {
   "cell_type": "markdown",
   "id": "8a78139c",
   "metadata": {},
   "source": [
    "# 3.5"
   ]
  },
  {
   "cell_type": "code",
   "execution_count": 5,
   "id": "95fc0771",
   "metadata": {},
   "outputs": [
    {
     "name": "stdout",
     "output_type": "stream",
     "text": [
      "24\n"
     ]
    }
   ],
   "source": [
    "seconds_per_day_intdiv = (seconds_per_day // seconds_per_hour)\n",
    "print(seconds_per_day_intdiv)"
   ]
  },
  {
   "cell_type": "markdown",
   "id": "4e321cf1",
   "metadata": {},
   "source": [
    "# 3.6"
   ]
  },
  {
   "cell_type": "code",
   "execution_count": 6,
   "id": "fa204910",
   "metadata": {},
   "outputs": [
    {
     "data": {
      "text/markdown": [
       "Did this number agree with the floating-point value from the previous question, aside from the final .0? Yes it did."
      ],
      "text/plain": [
       "<IPython.core.display.Markdown object>"
      ]
     },
     "execution_count": 6,
     "metadata": {},
     "output_type": "execute_result"
    }
   ],
   "source": [
    "md(\"Did this number agree with the floating-point value from the previous question, aside from the final .0? Yes it did.\")"
   ]
  }
 ],
 "metadata": {
  "kernelspec": {
   "display_name": "Python 3 (ipykernel)",
   "language": "python",
   "name": "python3"
  },
  "language_info": {
   "codemirror_mode": {
    "name": "ipython",
    "version": 3
   },
   "file_extension": ".py",
   "mimetype": "text/x-python",
   "name": "python",
   "nbconvert_exporter": "python",
   "pygments_lexer": "ipython3",
   "version": "3.11.5"
  }
 },
 "nbformat": 4,
 "nbformat_minor": 5
}
